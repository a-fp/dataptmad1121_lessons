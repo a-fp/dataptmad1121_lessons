{
 "cells": [
  {
   "cell_type": "markdown",
   "id": "b8f27009",
   "metadata": {},
   "source": [
    "# Wrangling methods"
   ]
  },
  {
   "cell_type": "code",
   "execution_count": 1,
   "id": "4f9dc81c",
   "metadata": {},
   "outputs": [],
   "source": [
    "import pandas as pd"
   ]
  },
  {
   "cell_type": "code",
   "execution_count": null,
   "id": "c00f1080",
   "metadata": {},
   "outputs": [],
   "source": [
    "def wrangling(df, year):#filtro por año en la columna año. y fijo la columna año.\n",
    "    df=df[df['year'].isin([year])]#.isin solo funciona con lista. \n",
    "    df=df[[a,b]]#así cojo dos columnas. \n",
    "    return df\n",
    "    \n",
    "    "
   ]
  },
  {
   "cell_type": "code",
   "execution_count": null,
   "id": "3ac527c7",
   "metadata": {},
   "outputs": [],
   "source": [
    "var = wrangling(dataframe, [1985])"
   ]
  },
  {
   "cell_type": "code",
   "execution_count": null,
   "id": "b769e57a",
   "metadata": {},
   "outputs": [],
   "source": [
    "var['year'].unique()#para ver que el valor de la columna solamentes es 1985."
   ]
  }
 ],
 "metadata": {
  "kernelspec": {
   "display_name": "Python [conda env:ironhack]",
   "language": "python",
   "name": "conda-env-ironhack-py"
  },
  "language_info": {
   "codemirror_mode": {
    "name": "ipython",
    "version": 3
   },
   "file_extension": ".py",
   "mimetype": "text/x-python",
   "name": "python",
   "nbconvert_exporter": "python",
   "pygments_lexer": "ipython3",
   "version": "3.7.11"
  }
 },
 "nbformat": 4,
 "nbformat_minor": 5
}
