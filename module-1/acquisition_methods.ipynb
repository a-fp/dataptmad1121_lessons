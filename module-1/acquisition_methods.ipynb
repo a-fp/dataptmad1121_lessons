{
 "cells": [
  {
   "cell_type": "markdown",
   "id": "593a1ac6",
   "metadata": {},
   "source": [
    "## Acquisition methods"
   ]
  },
  {
   "cell_type": "code",
   "execution_count": 1,
   "id": "10447828",
   "metadata": {},
   "outputs": [],
   "source": [
    "import pandas as pd"
   ]
  },
  {
   "cell_type": "code",
   "execution_count": null,
   "id": "588cac1e",
   "metadata": {},
   "outputs": [],
   "source": [
    "def acquisition(path_file):\n",
    "    df=pd.read_csv(path_file)\n",
    "    return df\n",
    "    "
   ]
  },
  {
   "cell_type": "code",
   "execution_count": null,
   "id": "d0c07515",
   "metadata": {},
   "outputs": [],
   "source": [
    "acquisition('ruta')"
   ]
  }
 ],
 "metadata": {
  "kernelspec": {
   "display_name": "Python [conda env:ironhack]",
   "language": "python",
   "name": "conda-env-ironhack-py"
  },
  "language_info": {
   "codemirror_mode": {
    "name": "ipython",
    "version": 3
   },
   "file_extension": ".py",
   "mimetype": "text/x-python",
   "name": "python",
   "nbconvert_exporter": "python",
   "pygments_lexer": "ipython3",
   "version": "3.7.11"
  }
 },
 "nbformat": 4,
 "nbformat_minor": 5
}
