{
 "cells": [
  {
   "cell_type": "markdown",
   "id": "e2274908",
   "metadata": {},
   "source": [
    "# SQL Extra Topics - SQLAlchemy\n",
    "\n",
    "The SQLAlchemy SQL Toolkit and Object Relational Mapper is a comprehensive set of tools for working with databases and Python\n",
    "\n",
    "We'll need:\n",
    "\n",
    "- [Azure SQL Database](https://portal.azure.com/)\n",
    "\n",
    "- [ODBC Driver for SQL Server](https://docs.microsoft.com/en-us/sql/connect/odbc/download-odbc-driver-for-sql-server?view=sql-server-ver15) #Necesitamos un driver. Aquí se descarga.  \n",
    "\n",
    "- [pyodbc](https://pypi.org/project/pyodbc/)#Modulo de python necesario. \n",
    "\n",
    "- [SQLAlchemy](https://docs.sqlalchemy.org/en/13/intro.html)#instalamos la libreria. "
   ]
  },
  {
   "cell_type": "code",
   "execution_count": 1,
   "id": "e7d3dc71",
   "metadata": {},
   "outputs": [
    {
     "ename": "ModuleNotFoundError",
     "evalue": "No module named 'dotenv'",
     "output_type": "error",
     "traceback": [
      "\u001b[0;31m---------------------------------------------------------------------------\u001b[0m",
      "\u001b[0;31mModuleNotFoundError\u001b[0m                       Traceback (most recent call last)",
      "\u001b[0;32m/var/folders/v7/b_w4v4wj48707qytc6tfxtjw0000gn/T/ipykernel_1208/320302018.py\u001b[0m in \u001b[0;36m<module>\u001b[0;34m\u001b[0m\n\u001b[1;32m      2\u001b[0m \u001b[0;34m\u001b[0m\u001b[0m\n\u001b[1;32m      3\u001b[0m \u001b[0;32mimport\u001b[0m \u001b[0mos\u001b[0m\u001b[0;34m\u001b[0m\u001b[0;34m\u001b[0m\u001b[0m\n\u001b[0;32m----> 4\u001b[0;31m \u001b[0;32mfrom\u001b[0m \u001b[0mdotenv\u001b[0m \u001b[0;32mimport\u001b[0m \u001b[0mload_dotenv\u001b[0m\u001b[0;31m#Instalar.\u001b[0m\u001b[0;34m\u001b[0m\u001b[0;34m\u001b[0m\u001b[0m\n\u001b[0m\u001b[1;32m      5\u001b[0m \u001b[0;32mimport\u001b[0m \u001b[0mpyodbc\u001b[0m\u001b[0;34m\u001b[0m\u001b[0;34m\u001b[0m\u001b[0m\n\u001b[1;32m      6\u001b[0m \u001b[0;32mimport\u001b[0m \u001b[0msqlalchemy\u001b[0m\u001b[0;34m\u001b[0m\u001b[0;34m\u001b[0m\u001b[0m\n",
      "\u001b[0;31mModuleNotFoundError\u001b[0m: No module named 'dotenv'"
     ]
    }
   ],
   "source": [
    "# imports\n",
    "\n",
    "import os\n",
    "from dotenv import load_dotenv#Instalar.\n",
    "import pyodbc\n",
    "import sqlalchemy\n",
    "from sqlalchemy import create_engine\n",
    "from sqlalchemy.engine import URL\n",
    "import pandas as pd\n",
    "\n",
    "sqlalchemy.__version__"
   ]
  },
  {
   "cell_type": "markdown",
   "id": "0fba9d7c",
   "metadata": {},
   "source": [
    "---"
   ]
  },
  {
   "cell_type": "markdown",
   "id": "77409819",
   "metadata": {},
   "source": [
    "### dotenv\n",
    "\n",
    "https://pypi.org/project/python-dotenv/"
   ]
  },
  {
   "cell_type": "code",
   "execution_count": 3,
   "id": "85a9e1bc",
   "metadata": {},
   "outputs": [
    {
     "ename": "NameError",
     "evalue": "name 'load_dotenv' is not defined",
     "output_type": "error",
     "traceback": [
      "\u001b[0;31m---------------------------------------------------------------------------\u001b[0m",
      "\u001b[0;31mNameError\u001b[0m                                 Traceback (most recent call last)",
      "\u001b[0;32m/var/folders/v7/b_w4v4wj48707qytc6tfxtjw0000gn/T/ipykernel_1208/965350551.py\u001b[0m in \u001b[0;36m<module>\u001b[0;34m\u001b[0m\n\u001b[0;32m----> 1\u001b[0;31m \u001b[0mload_dotenv\u001b[0m\u001b[0;34m(\u001b[0m\u001b[0;34m'.env'\u001b[0m\u001b[0;34m)\u001b[0m\u001b[0;31m#sirven oara generar variables de entorno que estan en un documento doc. y el \".env\" estan configurados para ser ignorados.\u001b[0m\u001b[0;34m\u001b[0m\u001b[0;34m\u001b[0m\u001b[0m\n\u001b[0m\u001b[1;32m      2\u001b[0m \u001b[0;34m\u001b[0m\u001b[0m\n\u001b[1;32m      3\u001b[0m \u001b[0mDATABASE_PASSWORD\u001b[0m \u001b[0;34m=\u001b[0m \u001b[0mos\u001b[0m\u001b[0;34m.\u001b[0m\u001b[0menviron\u001b[0m\u001b[0;34m.\u001b[0m\u001b[0mget\u001b[0m\u001b[0;34m(\u001b[0m\u001b[0;34m\"DATABASE_PASSWORD\"\u001b[0m\u001b[0;34m)\u001b[0m\u001b[0;31m#en esta variable carga la passwrod\u001b[0m\u001b[0;34m\u001b[0m\u001b[0;34m\u001b[0m\u001b[0m\n\u001b[1;32m      4\u001b[0m \u001b[0mDATABASE_PASSWORD\u001b[0m\u001b[0;34m\u001b[0m\u001b[0;34m\u001b[0m\u001b[0m\n",
      "\u001b[0;31mNameError\u001b[0m: name 'load_dotenv' is not defined"
     ]
    }
   ],
   "source": [
    "load_dotenv('.env')#sirven oara generar variables de entorno que estan en un documento doc. y el \".env\" estan configurados para ser ignorados. \n",
    "\n",
    "DATABASE_PASSWORD = os.environ.get(\"DATABASE_PASSWORD\")#en esta variable carga la passwrod\n",
    "DATABASE_PASSWORD#ojo, que asi la revelas, no imprimirla, solo meterla en la varibale. "
   ]
  },
  {
   "cell_type": "markdown",
   "id": "c38db654",
   "metadata": {},
   "source": [
    "---"
   ]
  },
  {
   "cell_type": "code",
   "execution_count": 2,
   "id": "8f2cf74f",
   "metadata": {},
   "outputs": [
    {
     "ename": "NameError",
     "evalue": "name 'DATABASE_PASSWORD' is not defined",
     "output_type": "error",
     "traceback": [
      "\u001b[0;31m---------------------------------------------------------------------------\u001b[0m",
      "\u001b[0;31mNameError\u001b[0m                                 Traceback (most recent call last)",
      "\u001b[0;32m/var/folders/v7/b_w4v4wj48707qytc6tfxtjw0000gn/T/ipykernel_1208/3923779406.py\u001b[0m in \u001b[0;36m<module>\u001b[0;34m\u001b[0m\n\u001b[1;32m      5\u001b[0m \u001b[0mdatabase\u001b[0m \u001b[0;34m=\u001b[0m \u001b[0;34m'Database=AdventureWorksLT;'\u001b[0m\u001b[0;34m\u001b[0m\u001b[0;34m\u001b[0m\u001b[0m\n\u001b[1;32m      6\u001b[0m \u001b[0muid\u001b[0m \u001b[0;34m=\u001b[0m \u001b[0;34m'Uid=azureuser;'\u001b[0m\u001b[0;34m\u001b[0m\u001b[0;34m\u001b[0m\u001b[0m\n\u001b[0;32m----> 7\u001b[0;31m \u001b[0mpwd\u001b[0m \u001b[0;34m=\u001b[0m \u001b[0;34mf'Pwd={DATABASE_PASSWORD};'\u001b[0m\u001b[0;34m\u001b[0m\u001b[0;34m\u001b[0m\u001b[0m\n\u001b[0m\u001b[1;32m      8\u001b[0m \u001b[0mconfig\u001b[0m \u001b[0;34m=\u001b[0m \u001b[0;34m'Encrypt=yes;TrustServerCertificate=no;Connection Timeout=30;'\u001b[0m\u001b[0;34m\u001b[0m\u001b[0;34m\u001b[0m\u001b[0m\n",
      "\u001b[0;31mNameError\u001b[0m: name 'DATABASE_PASSWORD' is not defined"
     ]
    }
   ],
   "source": [
    "# connection string params => https://docs.sqlalchemy.org/en/14/dialects/mssql.html#pass-through-exact-pyodbc-string\n",
    "\n",
    "driver = 'Driver={ODBC Driver 17 for SQL Server};'#Ver celda de abajo. \n",
    "server = 'Server=tcp:sqlironhack.database.windows.net,1433;'\n",
    "database = 'Database=AdventureWorksLT;'\n",
    "uid = 'Uid=azureuser;'\n",
    "pwd = f'Pwd={DATABASE_PASSWORD};'\n",
    "config = 'Encrypt=yes;TrustServerCertificate=no;Connection Timeout=30;'"
   ]
  },
  {
   "cell_type": "code",
   "execution_count": null,
   "id": "cc8cec4e",
   "metadata": {},
   "outputs": [],
   "source": [
    "# connection string assembly #En settings de azure \"Connection string\". ODBC. #Poner que el driver es el 17(Ver variable driver). Nosotros instalamos el 17.\n",
    "\n",
    "connection_string = driver+server+database+uid+pwd+config \n",
    "connection_url = URL.create(\"mssql+pyodbc\", query={\"odbc_connect\": connection_string})#al argumento query le metemos un diccionario. El primero es el motor de conexion mas el driver. \n",
    "connection_url"
   ]
  },
  {
   "cell_type": "code",
   "execution_count": null,
   "id": "4fcd77b3",
   "metadata": {},
   "outputs": [],
   "source": [
    "# SQL Engine => dialect+driver (https://docs.sqlalchemy.org/en/14/core/engines.html)\n",
    "\n",
    "engine = create_engine(connection_url)\n",
    "type(engine)#Objeto sql. "
   ]
  },
  {
   "cell_type": "markdown",
   "id": "fc037aa1",
   "metadata": {},
   "source": [
    "---"
   ]
  },
  {
   "cell_type": "code",
   "execution_count": null,
   "id": "930c098f",
   "metadata": {},
   "outputs": [],
   "source": [
    "# Pandas!!!\n",
    "\n",
    "df = pd.read_sql_query(\"SELECT * FROM SalesLT.ProductModel\", engine)#primero la query, y segundo el motor. \n",
    "df"
   ]
  },
  {
   "cell_type": "markdown",
   "id": "bcb765d6",
   "metadata": {},
   "source": [
    "---"
   ]
  },
  {
   "cell_type": "markdown",
   "id": "87f54eb3",
   "metadata": {},
   "source": [
    "### Let's see some examples..."
   ]
  },
  {
   "cell_type": "code",
   "execution_count": null,
   "id": "b0014918",
   "metadata": {},
   "outputs": [],
   "source": [
    "query_1 = '''\n",
    "SELECT TOP 20 pc.Name as CategoryName, p.name as ProductName \n",
    "FROM SalesLT.ProductCategory pc JOIN SalesLT.Product p ON pc.productcategoryid = p.productcategoryid\n",
    "ORDER BY CategoryName\n",
    "'''"
   ]
  },
  {
   "cell_type": "code",
   "execution_count": null,
   "id": "e7987270",
   "metadata": {},
   "outputs": [],
   "source": [
    "df_q1 = pd.read_sql_query(query_1, engine)\n",
    "df_q1"
   ]
  },
  {
   "cell_type": "code",
   "execution_count": null,
   "id": "e0d562f7",
   "metadata": {},
   "outputs": [],
   "source": [
    "query_2 = '''\n",
    "SELECT c.FirstName + ' ' + c.LastName AS [Customer Fullname], p.Name AS [Product Name]\n",
    "FROM SalesLT.Customer AS c\n",
    "    INNER JOIN SalesLT.SalesOrderHeader AS soh ON c.CustomerID = soh.CustomerID\n",
    "    INNER JOIN SalesLT.SalesOrderDetail AS shd ON soh.SalesOrderID = shd.SalesOrderID\n",
    "    INNER JOIN SalesLT.Product AS p ON shd.ProductID = p.ProductID\n",
    "ORDER BY [Customer Fullname], [Product Name]\n",
    "'''"
   ]
  },
  {
   "cell_type": "code",
   "execution_count": null,
   "id": "6b69760e",
   "metadata": {},
   "outputs": [],
   "source": [
    "df_q2 = pd.read_sql_query(query_2, engine)\n",
    "df_q2"
   ]
  },
  {
   "cell_type": "code",
   "execution_count": null,
   "id": "f87b28e7",
   "metadata": {},
   "outputs": [],
   "source": [
    "query_3 = '''\n",
    "SELECT   p.name, COUNT(*) AS 'Total Orders'\n",
    "FROM SalesLT.Product AS p\n",
    "    INNER JOIN SalesLT.SalesOrderDetail AS sod ON p.ProductID = sod.ProductID\n",
    "GROUP BY  p.Name\n",
    "ORDER BY 'Total Orders' DESC\n",
    "'''"
   ]
  },
  {
   "cell_type": "code",
   "execution_count": null,
   "id": "d54faa1a",
   "metadata": {},
   "outputs": [],
   "source": [
    "df_q3 = pd.read_sql_query(query_3, engine)\n",
    "df_q3"
   ]
  },
  {
   "cell_type": "markdown",
   "id": "39741043",
   "metadata": {},
   "source": [
    "---"
   ]
  }
 ],
 "metadata": {
  "kernelspec": {
   "display_name": "Python [conda env:ironhack]",
   "language": "python",
   "name": "conda-env-ironhack-py"
  },
  "language_info": {
   "codemirror_mode": {
    "name": "ipython",
    "version": 3
   },
   "file_extension": ".py",
   "mimetype": "text/x-python",
   "name": "python",
   "nbconvert_exporter": "python",
   "pygments_lexer": "ipython3",
   "version": "3.7.11"
  }
 },
 "nbformat": 4,
 "nbformat_minor": 5
}
