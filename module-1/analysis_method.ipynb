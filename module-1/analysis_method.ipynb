{
 "cells": [
  {
   "cell_type": "markdown",
   "id": "732ffe35",
   "metadata": {},
   "source": [
    "# Analysis method"
   ]
  },
  {
   "cell_type": "code",
   "execution_count": 1,
   "id": "092259a3",
   "metadata": {},
   "outputs": [],
   "source": [
    "import pandas as pd"
   ]
  },
  {
   "cell_type": "code",
   "execution_count": null,
   "id": "cf954766",
   "metadata": {},
   "outputs": [],
   "source": [
    "def analysis(df, groupby_col, agg_col):#[groupby_col] lo meto en forma de lista.\n",
    "    df = df.groupby([groupby_col]).[agg_col].agg(np.sum())\n",
    "    return df\n",
    "    "
   ]
  },
  {
   "cell_type": "code",
   "execution_count": null,
   "id": "b6d75461",
   "metadata": {},
   "outputs": [],
   "source": [
    "analysis(df, 'year', 'co2')"
   ]
  }
 ],
 "metadata": {
  "kernelspec": {
   "display_name": "Python [conda env:ironhack]",
   "language": "python",
   "name": "conda-env-ironhack-py"
  },
  "language_info": {
   "codemirror_mode": {
    "name": "ipython",
    "version": 3
   },
   "file_extension": ".py",
   "mimetype": "text/x-python",
   "name": "python",
   "nbconvert_exporter": "python",
   "pygments_lexer": "ipython3",
   "version": "3.7.11"
  }
 },
 "nbformat": 4,
 "nbformat_minor": 5
}
