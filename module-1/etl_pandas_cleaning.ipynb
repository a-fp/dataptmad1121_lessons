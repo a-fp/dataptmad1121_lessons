{
 "cells": [
  {
   "cell_type": "markdown",
   "id": "2f2efb80",
   "metadata": {},
   "source": [
    "# Pandas Data Cleaning\n",
    "\n",
    "Some methods: `.isnull()`, `.drop()`, `.fillna()`, `._get_numeric_data()`, `.astype()`, `.str.replace()`, `.drop_duplicates()`, `.apply()`"
   ]
  },
  {
   "cell_type": "code",
   "execution_count": null,
   "id": "e57c0c54",
   "metadata": {},
   "outputs": [],
   "source": [
    "import pandas as pd"
   ]
  },
  {
   "cell_type": "code",
   "execution_count": null,
   "id": "e455b0ed",
   "metadata": {},
   "outputs": [],
   "source": [
    "# Importing data\n",
    "#Los dataset pasan a ser dataframes. Los dataframes son los dataset de pandas. \n",
    "df1 = pd.read_csv('datasets/transaction_dataset.csv') # https://www.kaggle.com/vagifa/ethereum-frauddetection-dataset\n",
    "df1.head()"
   ]
  },
  {
   "cell_type": "code",
   "execution_count": null,
   "id": "fb660413",
   "metadata": {},
   "outputs": [],
   "source": [
    "#LIMAPIAR DATOS:"
   ]
  },
  {
   "cell_type": "code",
   "execution_count": null,
   "id": "e4d4e7ba",
   "metadata": {},
   "outputs": [],
   "source": [
    "# Explore dataset\n",
    "\n",
    "df1.info()"
   ]
  },
  {
   "cell_type": "code",
   "execution_count": null,
   "id": "c6fb5ec7",
   "metadata": {},
   "outputs": [],
   "source": [
    "# Null analysis\n",
    "\n",
    "df1.isnull()#nos devuelve si es nulo. "
   ]
  },
  {
   "cell_type": "code",
   "execution_count": null,
   "id": "4fea4230",
   "metadata": {},
   "outputs": [],
   "source": [
    "df1.isnull().sum()#nos suma los nulos de las columnas"
   ]
  },
  {
   "cell_type": "code",
   "execution_count": null,
   "id": "6e2acf61",
   "metadata": {},
   "outputs": [],
   "source": [
    "null_cols = df1.isnull().sum()#Me quedo con las columnas con nulos. \n",
    "null_cols[null_cols > 0]"
   ]
  },
  {
   "cell_type": "markdown",
   "id": "fcc34190",
   "metadata": {},
   "source": [
    "---"
   ]
  },
  {
   "cell_type": "code",
   "execution_count": null,
   "id": "3de7f1f5",
   "metadata": {},
   "outputs": [],
   "source": [
    "# Null analysis deep dive\n",
    "\n",
    "null_cols = null_cols[null_cols > 0] / len(df1) * 100\n",
    "null_cols"
   ]
  },
  {
   "cell_type": "code",
   "execution_count": null,
   "id": "1a315aaf",
   "metadata": {},
   "outputs": [],
   "source": [
    "threshold = 5\n",
    "null_filter = null_cols > threshold\n",
    "drop_cols = list(null_cols[null_filter].index)\n",
    "drop_cols"
   ]
  },
  {
   "cell_type": "code",
   "execution_count": null,
   "id": "a07a6d04",
   "metadata": {},
   "outputs": [],
   "source": [
    "remain_columns = df1.columns.difference(drop_cols)\n",
    "remain_columns"
   ]
  },
  {
   "cell_type": "markdown",
   "id": "6fd96ab7",
   "metadata": {},
   "source": [
    "---"
   ]
  },
  {
   "cell_type": "code",
   "execution_count": null,
   "id": "fe084a30",
   "metadata": {},
   "outputs": [],
   "source": [
    "# Drop columns\n",
    "\n",
    "df_no_nulls = df1.drop(drop_cols, axis=1)#elimina filas o columnas. Axis 0 filas, 1 columnas. \n",
    "df_no_nulls.info()"
   ]
  },
  {
   "cell_type": "markdown",
   "id": "62ce1bea",
   "metadata": {},
   "source": [
    "---"
   ]
  },
  {
   "cell_type": "code",
   "execution_count": null,
   "id": "5c623249",
   "metadata": {},
   "outputs": [],
   "source": [
    "# Filling nulls\n",
    "\n",
    "df2 = pd.read_csv('datasets/vehicles.csv')\n",
    "df2.info()"
   ]
  },
  {
   "cell_type": "code",
   "execution_count": null,
   "id": "884156d6",
   "metadata": {},
   "outputs": [],
   "source": [
    "null_displ = df2.loc[df2['displ'].isnull(), ['year', 'make', 'model', 'trany', 'drive','fuelType','cylinders', 'displ']]\n",
    "null_displ"
   ]
  },
  {
   "cell_type": "code",
   "execution_count": null,
   "id": "eb8c6767",
   "metadata": {},
   "outputs": [],
   "source": [
    "df2[['displ', 'cylinders']] = df2[['displ', 'cylinders']].fillna(0)#rellna de cero los nulos. "
   ]
  },
  {
   "cell_type": "code",
   "execution_count": null,
   "id": "8d0548b6",
   "metadata": {},
   "outputs": [],
   "source": [
    "zero_displ = df2[df2['displ'] == 0]\n",
    "zero_displ = zero_displ[['year', 'make', 'model', 'trany', 'drive','fuelType','cylinders', 'displ']]\n",
    "zero_displ"
   ]
  },
  {
   "cell_type": "code",
   "execution_count": null,
   "id": "9d980c65",
   "metadata": {},
   "outputs": [],
   "source": [
    "# Solving specific error\n",
    "\n",
    "error = df2[(df2['cylinders']==0) & (df2['displ']!=0)]\n",
    "error[['year', 'make', 'model', 'trany', 'drive','fuelType','cylinders', 'displ']]"
   ]
  },
  {
   "cell_type": "code",
   "execution_count": null,
   "id": "7fc46c20",
   "metadata": {},
   "outputs": [],
   "source": [
    "df2.loc[(df2['cylinders']==0) & (df2['displ']!=0), 'cylinders'] = 4#Modifico especificamente ese dato. "
   ]
  },
  {
   "cell_type": "code",
   "execution_count": null,
   "id": "7de4f0a7",
   "metadata": {},
   "outputs": [],
   "source": [
    "df2[['year', 'make', 'model', 'trany', 'drive','fuelType','cylinders', 'displ']].iloc[21506]"
   ]
  },
  {
   "cell_type": "markdown",
   "id": "02c042d2",
   "metadata": {},
   "source": [
    "---"
   ]
  },
  {
   "cell_type": "code",
   "execution_count": null,
   "id": "4fe02217",
   "metadata": {
    "scrolled": true
   },
   "outputs": [],
   "source": [
    "# Get numeric data\n",
    "\n",
    "# df1[[x for x in data.columns if x not in data._get_numeric_data().columns]]\n",
    "# df1.drop(df1._get_numeric_data().columns, axis=1)\n",
    "df1._get_numeric_data()"
   ]
  },
  {
   "cell_type": "markdown",
   "id": "775330e6",
   "metadata": {},
   "source": [
    "---"
   ]
  },
  {
   "cell_type": "code",
   "execution_count": null,
   "id": "f8363a35",
   "metadata": {},
   "outputs": [],
   "source": [
    "# Changing data types\n",
    "\n",
    "df3 = pd.read_csv('datasets/power_consumption_es.csv') # https://www.kaggle.com/francoisraucent/western-europe-power-consumption\n",
    "df3.info()"
   ]
  },
  {
   "cell_type": "code",
   "execution_count": null,
   "id": "dfaf0cb6",
   "metadata": {},
   "outputs": [],
   "source": [
    "df3.head()"
   ]
  },
  {
   "cell_type": "code",
   "execution_count": null,
   "id": "e9403fe3",
   "metadata": {},
   "outputs": [],
   "source": [
    "df3['start'] = df3['start'].astype('datetime64[ns]')#Lo pasamos a fechas. Tipo de dato datetime. \n",
    "df3['end'] = df3['end'].astype('datetime64[ns]')"
   ]
  },
  {
   "cell_type": "code",
   "execution_count": null,
   "id": "448cffed",
   "metadata": {},
   "outputs": [],
   "source": [
    "df3.info()"
   ]
  },
  {
   "cell_type": "markdown",
   "id": "7bc35152",
   "metadata": {},
   "source": [
    "---"
   ]
  },
  {
   "cell_type": "code",
   "execution_count": null,
   "id": "d1ec028f",
   "metadata": {},
   "outputs": [],
   "source": [
    "# Replacing strings\n",
    "\n",
    "df4 = pd.read_csv('datasets/club.csv') # https://www.kaggle.com/sanjeetsinghnaik/football-club-market-value-2021\n",
    "df4.info()"
   ]
  },
  {
   "cell_type": "code",
   "execution_count": null,
   "id": "ed96ae07",
   "metadata": {},
   "outputs": [],
   "source": [
    "df4.head()"
   ]
  },
  {
   "cell_type": "code",
   "execution_count": null,
   "id": "d0ef11d7",
   "metadata": {},
   "outputs": [],
   "source": [
    "teams = sorted(list(df4['Club Name'].unique()))\n",
    "teams"
   ]
  },
  {
   "cell_type": "code",
   "execution_count": null,
   "id": "0e587a28",
   "metadata": {},
   "outputs": [],
   "source": [
    "df4['Club Name'] = df4['Club Name'].str.replace('Juventus FC', 'Vecchia Signora')"
   ]
  },
  {
   "cell_type": "code",
   "execution_count": null,
   "id": "a0de7fe7",
   "metadata": {
    "scrolled": true
   },
   "outputs": [],
   "source": [
    "juventus = df4[df4['Club Name'] == 'Vecchia Signora']\n",
    "juventus[['Club Name', 'Market Value Of Club In Millions(£)']]"
   ]
  },
  {
   "cell_type": "markdown",
   "id": "9966b9f9",
   "metadata": {},
   "source": [
    "---"
   ]
  },
  {
   "cell_type": "code",
   "execution_count": null,
   "id": "4c6a6cb7",
   "metadata": {},
   "outputs": [],
   "source": [
    "# Drop duplicates\n",
    "\n",
    "df4.shape"
   ]
  },
  {
   "cell_type": "code",
   "execution_count": null,
   "id": "707f82ff",
   "metadata": {},
   "outputs": [],
   "source": [
    "sample = df4[['Club Name', 'Competition Name', 'Squad Size']]\n",
    "print(sample.shape)\n",
    "sample.head()"
   ]
  },
  {
   "cell_type": "code",
   "execution_count": null,
   "id": "b070b01d",
   "metadata": {},
   "outputs": [],
   "source": [
    "sample = sample.drop_duplicates()\n",
    "sample.shape"
   ]
  },
  {
   "cell_type": "code",
   "execution_count": null,
   "id": "119cea67",
   "metadata": {},
   "outputs": [],
   "source": [
    "sample = sample.drop_duplicates(subset=['Competition Name', 'Squad Size'], keep='first', ignore_index=False)\n",
    "sample.shape"
   ]
  },
  {
   "cell_type": "code",
   "execution_count": null,
   "id": "30ee416d",
   "metadata": {},
   "outputs": [],
   "source": [
    "sample.index"
   ]
  },
  {
   "cell_type": "markdown",
   "id": "a41de38e",
   "metadata": {},
   "source": [
    "---"
   ]
  },
  {
   "cell_type": "code",
   "execution_count": null,
   "id": "5467bc6f",
   "metadata": {},
   "outputs": [],
   "source": [
    "# Apply\n",
    "\n",
    "df5 = pd.read_csv('datasets/nft_sales.csv') # https://www.kaggle.com/hemil26/nft-collections-dataset\n",
    "df5.info()"
   ]
  },
  {
   "cell_type": "code",
   "execution_count": null,
   "id": "ea4c7a5d",
   "metadata": {},
   "outputs": [],
   "source": [
    "df5.head()"
   ]
  },
  {
   "cell_type": "code",
   "execution_count": null,
   "id": "5267cdd4",
   "metadata": {},
   "outputs": [],
   "source": [
    "df5['Sales'] = df5['Sales'].astype('int64')# convierto en int. Sale error por el dolar"
   ]
  },
  {
   "cell_type": "code",
   "execution_count": null,
   "id": "d363e110",
   "metadata": {},
   "outputs": [],
   "source": [
    "df5['Sales'] = df5['Sales'].str.replace('$', '')#quito el dolar"
   ]
  },
  {
   "cell_type": "code",
   "execution_count": null,
   "id": "980a9279",
   "metadata": {},
   "outputs": [],
   "source": [
    "df5.head()"
   ]
  },
  {
   "cell_type": "code",
   "execution_count": null,
   "id": "df68e1fb",
   "metadata": {},
   "outputs": [],
   "source": [
    "df5['Sales'] = df5['Sales'].astype('int64')"
   ]
  },
  {
   "cell_type": "code",
   "execution_count": null,
   "id": "1ed3861c",
   "metadata": {},
   "outputs": [],
   "source": [
    "df5['Sales'] = df5['Sales'].str.replace(',', '', regex=True)#igual que el dolar"
   ]
  },
  {
   "cell_type": "code",
   "execution_count": null,
   "id": "4deec5ff",
   "metadata": {},
   "outputs": [],
   "source": [
    "df5.head()"
   ]
  },
  {
   "cell_type": "code",
   "execution_count": null,
   "id": "9e4c518a",
   "metadata": {},
   "outputs": [],
   "source": [
    "df5['Sales'] = df5['Sales'].astype('int64')"
   ]
  },
  {
   "cell_type": "code",
   "execution_count": null,
   "id": "887449dd",
   "metadata": {},
   "outputs": [],
   "source": [
    "df5.info()"
   ]
  },
  {
   "cell_type": "code",
   "execution_count": null,
   "id": "cb7a63df",
   "metadata": {},
   "outputs": [],
   "source": [
    "def clean_money(money):#intentar esto, entra en str y sale en int. \n",
    "    pass"
   ]
  },
  {
   "cell_type": "code",
   "execution_count": null,
   "id": "4afb62b8",
   "metadata": {},
   "outputs": [],
   "source": [
    "df5['Sales'] = df5['Sales'].apply(clean_money)# le aplica la funcion a cada elemento de la columna."
   ]
  },
  {
   "cell_type": "code",
   "execution_count": null,
   "id": "36dc39a9",
   "metadata": {},
   "outputs": [],
   "source": [
    "df5.head()"
   ]
  },
  {
   "cell_type": "code",
   "execution_count": null,
   "id": "18907ae5",
   "metadata": {},
   "outputs": [],
   "source": [
    "df5['bins2'] = df5['bins'].apply(def)"
   ]
  },
  {
   "cell_type": "markdown",
   "id": "8a485083",
   "metadata": {},
   "source": [
    "---"
   ]
  },
  {
   "cell_type": "markdown",
   "id": "2454711b",
   "metadata": {},
   "source": [
    "__Other resources to consider:__\n",
    "\n",
    "- https://github.com/ResidentMario/missingno\n",
    "\n",
    "- https://pyod.readthedocs.io/en/latest/"
   ]
  }
 ],
 "metadata": {
  "kernelspec": {
   "display_name": "Python [conda env:ironhack]",
   "language": "python",
   "name": "conda-env-ironhack-py"
  },
  "language_info": {
   "codemirror_mode": {
    "name": "ipython",
    "version": 3
   },
   "file_extension": ".py",
   "mimetype": "text/x-python",
   "name": "python",
   "nbconvert_exporter": "python",
   "pygments_lexer": "ipython3",
   "version": "3.7.11"
  }
 },
 "nbformat": 4,
 "nbformat_minor": 5
}
